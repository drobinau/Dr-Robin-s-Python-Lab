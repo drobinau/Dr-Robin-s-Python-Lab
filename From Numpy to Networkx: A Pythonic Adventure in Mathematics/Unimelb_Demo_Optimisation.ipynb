{
 "cells": [
  {
   "cell_type": "markdown",
   "metadata": {},
   "source": [
    "#### Finding the optimum of a function $$f(x) = x^2-3x+2$$"
   ]
  },
  {
   "cell_type": "code",
   "execution_count": 2,
   "metadata": {},
   "outputs": [
    {
     "name": "stdout",
     "output_type": "stream",
     "text": [
      "The minimum of f(x) is: -0.24999999999999956\n"
     ]
    }
   ],
   "source": [
    "from scipy.optimize import minimize\n",
    " \n",
    "# Finding the minimum of f(x)\n",
    "def f(x):\n",
    "    return x**2 - 3*x + 2\n",
    " \n",
    "# Initial guess for the optimization\n",
    "result_min = minimize(f, 0)  # Start at x = 0\n",
    "print(f'The minimum of f(x) is: {result_min.fun}')\n"
   ]
  },
  {
   "cell_type": "markdown",
   "metadata": {},
   "source": [
    "#### Combinatorial optimisation problems "
   ]
  },
  {
   "attachments": {
    "image.png": {
     "image/png": "[encoded data removed]"
    }
   },
   "cell_type": "markdown",
   "metadata": {},
   "source": [
    "#### Knapsack problem: Maximising value within constraints \n",
    "Consider a traveller who wants to buy books for their journey. Each book has a cost and an estimated reading time. The goal is to maximise the total reading time while keeping the total cost within a budget of 8 dollars. The details are shown below:\n",
    "\n",
    "![image.png](attachment:image.png)\n"
   ]
  },
  {
   "cell_type": "code",
   "execution_count": 3,
   "metadata": {},
   "outputs": [
    {
     "name": "stdout",
     "output_type": "stream",
     "text": [
      "Maximum reading time: 13 hours\n",
      "Optimal selection: [0 1 0 1 0]\n"
     ]
    }
   ],
   "source": [
    "from itertools import permutations\n",
    "import numpy as np\n",
    " \n",
    "# Books: [Cost, Reading Time]\n",
    "books = [[4, 5], [6, 9], [3, 4], [2, 4], [5, 4]]\n",
    "cost = np.array([book[0] for book in books])\n",
    "time = np.array([book[1] for book in books])\n",
    " \n",
    "budget = 8\n",
    "max_time = 0\n",
    " \n",
    "# Evaluate all possible combinations\n",
    "for i in range(1, len(books) + 1):\n",
    "    index = [1] * i + [0] * (len(books) - i)\n",
    "    for perm in permutations(index):\n",
    "        perm = np.array(perm)\n",
    "        if np.dot(cost, perm) <= budget:\n",
    "            total_time = np.dot(time, perm)\n",
    "            if total_time > max_time:\n",
    "                max_time = total_time\n",
    "                best_combination = perm\n",
    " \n",
    "print(\"Maximum reading time:\", max_time, \"hours\")\n",
    "print(\"Optimal selection:\", best_combination)\n"
   ]
  }
 ],
 "metadata": {
  "kernelspec": {
   "display_name": "Python 3",
   "language": "python",
   "name": "python3"
  },
  "language_info": {
   "codemirror_mode": {
    "name": "ipython",
    "version": 3
   },
   "file_extension": ".py",
   "mimetype": "text/x-python",
   "name": "python",
   "nbconvert_exporter": "python",
   "pygments_lexer": "ipython3",
   "version": "3.8.3"
  }
 },
 "nbformat": 4,
 "nbformat_minor": 4
}
