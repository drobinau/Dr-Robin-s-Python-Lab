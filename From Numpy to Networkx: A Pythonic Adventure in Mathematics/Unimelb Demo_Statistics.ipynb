{
 "cells": [
  {
   "cell_type": "markdown",
   "metadata": {},
   "source": [
    "#### Writing / reading data "
   ]
  },
  {
   "cell_type": "code",
   "execution_count": 1,
   "metadata": {},
   "outputs": [
    {
     "data": {
      "text/html": [
       "<a href='students.csv' target='_blank'>students.csv</a><br>"
      ],
      "text/plain": [
       "C:\\Users\\09433847\\Notebooks\\students.csv"
      ]
     },
     "execution_count": 1,
     "metadata": {},
     "output_type": "execute_result"
    }
   ],
   "source": [
    "import pandas as pd\n",
    "from IPython.display import FileLink\n",
    "\n",
    "# Create DataFrame\n",
    "df = pd.DataFrame({\n",
    "    'Name': ['Alice', 'Bob', 'Charlie'],\n",
    "    'Age': [14, 15, 14],\n",
    "    'Grade': ['A', 'B', 'A']\n",
    "})\n",
    "\n",
    "# Save to CSV\n",
    "filename = 'students.csv'\n",
    "df.to_csv(filename, index=False)\n",
    "\n",
    "# Display Download Link\n",
    "FileLink(filename)\n"
   ]
  },
  {
   "cell_type": "markdown",
   "metadata": {},
   "source": [
    "#### Read the data from csv"
   ]
  },
  {
   "cell_type": "code",
   "execution_count": 1,
   "metadata": {},
   "outputs": [
    {
     "name": "stdout",
     "output_type": "stream",
     "text": [
      "      Name  Age Grade\n",
      "0    Alice   14     A\n",
      "1      Bob   15     B\n",
      "2  Charlie   14     A\n"
     ]
    }
   ],
   "source": [
    "import pandas as pd\n",
    "df_read = pd.read_csv('students.csv')\n",
    "print(df_read) # Display the DataFrame"
   ]
  },
  {
   "cell_type": "markdown",
   "metadata": {},
   "source": [
    "#### Data analysis"
   ]
  },
  {
   "cell_type": "code",
   "execution_count": 14,
   "metadata": {},
   "outputs": [
    {
     "data": {
      "text/html": [
       "<div>\n",
       "<style scoped>\n",
       "    .dataframe tbody tr th:only-of-type {\n",
       "        vertical-align: middle;\n",
       "    }\n",
       "\n",
       "    .dataframe tbody tr th {\n",
       "        vertical-align: top;\n",
       "    }\n",
       "\n",
       "    .dataframe thead th {\n",
       "        text-align: right;\n",
       "    }\n",
       "</style>\n",
       "<table border=\"1\" class=\"dataframe\">\n",
       "  <thead>\n",
       "    <tr style=\"text-align: right;\">\n",
       "      <th></th>\n",
       "      <th>heights_cm</th>\n",
       "      <th>weights_kg</th>\n",
       "    </tr>\n",
       "  </thead>\n",
       "  <tbody>\n",
       "    <tr>\n",
       "      <th>0</th>\n",
       "      <td>161.786776</td>\n",
       "      <td>58.305185</td>\n",
       "    </tr>\n",
       "    <tr>\n",
       "      <th>1</th>\n",
       "      <td>180.730831</td>\n",
       "      <td>74.959838</td>\n",
       "    </tr>\n",
       "    <tr>\n",
       "      <th>2</th>\n",
       "      <td>161.453791</td>\n",
       "      <td>66.750481</td>\n",
       "    </tr>\n",
       "    <tr>\n",
       "      <th>3</th>\n",
       "      <td>164.536129</td>\n",
       "      <td>77.070213</td>\n",
       "    </tr>\n",
       "    <tr>\n",
       "      <th>4</th>\n",
       "      <td>175.771012</td>\n",
       "      <td>62.302648</td>\n",
       "    </tr>\n",
       "  </tbody>\n",
       "</table>\n",
       "</div>"
      ],
      "text/plain": [
       "   heights_cm  weights_kg\n",
       "0  161.786776   58.305185\n",
       "1  180.730831   74.959838\n",
       "2  161.453791   66.750481\n",
       "3  164.536129   77.070213\n",
       "4  175.771012   62.302648"
      ]
     },
     "execution_count": 14,
     "metadata": {},
     "output_type": "execute_result"
    }
   ],
   "source": [
    "# Import libraries\n",
    "import numpy as np\n",
    "import pandas as pd\n",
    "import matplotlib.pyplot as plt\n",
    "from scipy import stats\n",
    "\n",
    "# Example dataset\n",
    "data = pd.DataFrame({\n",
    "    'heights_cm': np.random.normal(170, 10, 100),  # heights of 100 people\n",
    "    'weights_kg': np.random.normal(65, 8, 100)\n",
    "})\n",
    "\n",
    "data.head()"
   ]
  },
  {
   "cell_type": "code",
   "execution_count": 26,
   "metadata": {},
   "outputs": [
    {
     "name": "stdout",
     "output_type": "stream",
     "text": [
      "       heights_cm  weights_kg\n",
      "count  100.000000  100.000000\n",
      "mean   170.137233   65.367695\n",
      "std      9.358997    7.840955\n",
      "min    150.571860   41.670523\n",
      "25%    163.304536   60.941778\n",
      "50%    168.892379   65.058859\n",
      "75%    177.133677   70.557571\n",
      "max    193.045282   81.357295\n",
      "Mean height: 170.1372334336841\n",
      "Median height: 168.89237932606267\n",
      "Mode height: ModeResult(mode=array([150.57186034]), count=array([1]))\n"
     ]
    }
   ],
   "source": [
    "# Basic summary\n",
    "print(data.describe())\n",
    "\n",
    "# Mean, median, mode\n",
    "print(\"Mean height:\", data['heights_cm'].mean())\n",
    "print(\"Median height:\", data['heights_cm'].median())\n",
    "print(\"Mode height:\", stats.mode(data['heights_cm']))\n"
   ]
  },
  {
   "cell_type": "code",
   "execution_count": 16,
   "metadata": {},
   "outputs": [
    {
     "name": "stdout",
     "output_type": "stream",
     "text": [
      "Variance: 87.59082105238366\n",
      "Standard Deviation: 9.358996797327354\n"
     ]
    }
   ],
   "source": [
    "# Variance and standard deviation\n",
    "print(\"Variance:\", data['heights_cm'].var())\n",
    "print(\"Standard Deviation:\", data['heights_cm'].std())\n"
   ]
  },
  {
   "cell_type": "code",
   "execution_count": 17,
   "metadata": {},
   "outputs": [
    {
     "data": {
      "image/png": "[encoded data removed]",
      "text/plain": [
       "<Figure size 432x288 with 1 Axes>"
      ]
     },
     "metadata": {
      "needs_background": "light"
     },
     "output_type": "display_data"
    },
    {
     "data": {
      "image/png": "[encoded data removed]",
      "text/plain": [
       "<Figure size 432x288 with 1 Axes>"
      ]
     },
     "metadata": {
      "needs_background": "light"
     },
     "output_type": "display_data"
    }
   ],
   "source": [
    "# Histogram\n",
    "plt.hist(data['heights_cm'])\n",
    "plt.title(\"Height Distribution\")\n",
    "plt.xlabel(\"Height (cm)\")\n",
    "plt.show()\n",
    "\n",
    "# Boxplot\n",
    "plt.boxplot(data['heights_cm'])\n",
    "plt.title(\"Height Boxplot\")\n",
    "plt.show()\n"
   ]
  },
  {
   "cell_type": "code",
   "execution_count": 24,
   "metadata": {},
   "outputs": [
    {
     "name": "stdout",
     "output_type": "stream",
     "text": [
      "Correlation Matrix:\n",
      "            heights_cm  weights_kg\n",
      "heights_cm    1.000000   -0.068156\n",
      "weights_kg   -0.068156    1.000000\n"
     ]
    },
    {
     "data": {
      "image/png": "[encoded data removed]",
      "text/plain": [
       "<Figure size 432x288 with 1 Axes>"
      ]
     },
     "metadata": {
      "needs_background": "light"
     },
     "output_type": "display_data"
    }
   ],
   "source": [
    "# Correlation coefficient between height and weight\n",
    "correlation = data.corr()\n",
    "print(\"Correlation Matrix:\")\n",
    "print(correlation)\n",
    "\n",
    "# Scatter plot\n",
    "plt.scatter(x='heights_cm', y='weights_kg', data=data, s=20)\n",
    "plt.title(\"Height vs Weight\")\n",
    "plt.show()\n"
   ]
  },
  {
   "cell_type": "code",
   "execution_count": 25,
   "metadata": {},
   "outputs": [
    {
     "name": "stdout",
     "output_type": "stream",
     "text": [
      "T-statistic: 0.1466326323813655\n",
      "P-value: 0.8837201773323996\n",
      "No significant difference from 170 cm\n"
     ]
    }
   ],
   "source": [
    "# One-sample t-test (test if mean height = 170)\n",
    "t_stat, p_val = stats.ttest_1samp(data['heights_cm'], 170)\n",
    "print(\"T-statistic:\", t_stat)\n",
    "print(\"P-value:\", p_val)\n",
    "\n",
    "# Interpretation\n",
    "if p_val < 0.05:\n",
    "    print(\"Significant difference from 170 cm\")\n",
    "else:\n",
    "    print(\"No significant difference from 170 cm\")\n"
   ]
  }
 ],
 "metadata": {
  "kernelspec": {
   "display_name": "Python 3",
   "language": "python",
   "name": "python3"
  },
  "language_info": {
   "codemirror_mode": {
    "name": "ipython",
    "version": 3
   },
   "file_extension": ".py",
   "mimetype": "text/x-python",
   "name": "python",
   "nbconvert_exporter": "python",
   "pygments_lexer": "ipython3",
   "version": "3.8.3"
  }
 },
 "nbformat": 4,
 "nbformat_minor": 4
}
