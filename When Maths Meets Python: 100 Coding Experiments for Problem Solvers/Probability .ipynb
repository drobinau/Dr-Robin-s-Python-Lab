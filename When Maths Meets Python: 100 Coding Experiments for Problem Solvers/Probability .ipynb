{
 "cells": [
  {
   "cell_type": "markdown",
   "metadata": {},
   "source": [
    "#### Find the probability of getting at leat 1 head when you toss 4 fair coins. "
   ]
  },
  {
   "cell_type": "code",
   "execution_count": 2,
   "metadata": {},
   "outputs": [
    {
     "name": "stdout",
     "output_type": "stream",
     "text": [
      "The probability is: 93.89999999999999% (939/1000)\n"
     ]
    }
   ],
   "source": [
    "import random\n",
    " \n",
    "n = 1000  # Number of simulations\n",
    "count = 0  # Count how many times we get at least 1 head\n",
    " \n",
    "for i in range(n):\n",
    "    # Simulate tossing 4 coins\n",
    "    for j in range(4):\n",
    "        # Randomly simulate heads or tails (1 for heads, 2 for tails)\n",
    "        if random.randint(1, 2) == 1:  # If it's heads\n",
    "            count += 1  # We got at least 1 head\n",
    "            break  # No need to check the other coins, move to the next trial\n",
    " \n",
    "# Calculate and print the probability\n",
    "print(\"The probability is: {}% ({}/{})\".format((count / n) * 100, count, n))\n"
   ]
  },
  {
   "attachments": {},
   "cell_type": "markdown",
   "metadata": {},
   "source": [
    "#### Two random numbers between 0 and 1 are generated. What is the probability that the two numbers have a sum less than 1 and a product less than 3/16?"
   ]
  },
  {
   "cell_type": "code",
   "execution_count": 3,
   "metadata": {},
   "outputs": [
    {
     "name": "stdout",
     "output_type": "stream",
     "text": [
      "The probability that the sum is less than 1 and product less than 3/16 is: 43.4%, 434/1000\n"
     ]
    }
   ],
   "source": [
    "import random\n",
    " \n",
    "n = 1000  # Number of trials\n",
    "count = 0\n",
    " \n",
    "for i in range(n):\n",
    "    # Generate two random numbers between 0 and 1\n",
    "    a = random.random()\n",
    "    b = random.random()\n",
    "    \n",
    "    # Check if the sum is less than 1 and the product is less than 3/16\n",
    "    if a + b < 1 and a * b < 3 / 16:\n",
    "        count += 1\n",
    " \n",
    "# Calculate probability\n",
    "print('The probability that the sum is less than 1 and product less than 3/16 is: {}%, {}/{}'.format(count / n * 100, count, n))\n"
   ]
  },
  {
   "attachments": {},
   "cell_type": "markdown",
   "metadata": {},
   "source": [
    "#### A coin is kept tossing until totally three heads appear. What is the expected number of tosses?"
   ]
  },
  {
   "cell_type": "code",
   "execution_count": 4,
   "metadata": {},
   "outputs": [
    {
     "name": "stdout",
     "output_type": "stream",
     "text": [
      "The average number of tosses is: 6.182\n"
     ]
    }
   ],
   "source": [
    "import random\n",
    " \n",
    "n = 1000  # Number of simulations\n",
    "toss_counts = []  # To store the number of tosses for each simulation\n",
    " \n",
    "for i in range(n):\n",
    "    tosses = []  # To record the outcomes of the tosses\n",
    "    count = 0  # To count the number of tosses\n",
    "    \n",
    "    # Toss until we get three heads\n",
    "    while tosses.count(1) < 3:\n",
    "        result = random.randint(1, 2)  # Simulate a coin toss (1 for heads, 2 for tails)\n",
    "        tosses.append(result)  # Record the result of the toss\n",
    "        count += 1  # Increment the count of tosses\n",
    "    \n",
    "    toss_counts.append(count)  # Store the number of tosses for this trial\n",
    " \n",
    "# Calculate and print the average number of tosses\n",
    "average_tosses = sum(toss_counts) / n\n",
    "print('The average number of tosses is: {}'.format(average_tosses))\n"
   ]
  },
  {
   "attachments": {},
   "cell_type": "markdown",
   "metadata": {},
   "source": [
    "#### Mabel throws two dice (each numbered from 1 to 6), a red one and a white one. What is the probability that the red one beats the white one in score?"
   ]
  },
  {
   "cell_type": "code",
   "execution_count": 5,
   "metadata": {},
   "outputs": [
    {
     "name": "stdout",
     "output_type": "stream",
     "text": [
      "The probability is: 41.9% (419/1000)\n"
     ]
    }
   ],
   "source": [
    "import random\n",
    " \n",
    "n = 1000  # Number of simulations\n",
    "count = 0  # Count how many times the red die beats the white die\n",
    " \n",
    "for i in range(n):\n",
    "    if random.randint(1, 6) > random.randint(1, 6):  # Red die vs. white die\n",
    "        count += 1  # Increment count if red die beats white die\n",
    " \n",
    "# Calculate and print the probability\n",
    "print(\"The probability is: {}% ({}/{})\".format((count / n) * 100, count, n))\n"
   ]
  },
  {
   "cell_type": "markdown",
   "metadata": {},
   "source": [
    "#### A casino offers a game called \"Roll me twice\": A single die is rolled 2 times. You win if the same number shows in the 2 consecutive rolls. It costs  $1 to play, and you get \\\\$6 if you win. Should you be willing to play this game?"
   ]
  },
  {
   "cell_type": "code",
   "execution_count": 11,
   "metadata": {},
   "outputs": [
    {
     "name": "stdout",
     "output_type": "stream",
     "text": [
      "The average gain is: 0.002\n"
     ]
    }
   ],
   "source": [
    "import random\n",
    "n = 1000  # Number of trials\n",
    "gains = []  # Track gains for each trial\n",
    " \n",
    "for _ in range(n):\n",
    "    rolls = [random.choice([1, 2, 3, 4, 5, 6]) for _ in range(2)]\n",
    "    if rolls[0] == rolls[1]:  # Check if both rolls match\n",
    "        gains.append(6 - 1)  # Win $6 and subtract $1 cost\n",
    "    else:\n",
    "        gains.append(-1)  # Lose $1\n",
    " \n",
    "# Calculate and display the average gain per game\n",
    "print('The average gain is:', sum(gains) / n)\n"
   ]
  },
  {
   "cell_type": "code",
   "execution_count": null,
   "metadata": {},
   "outputs": [],
   "source": []
  }
 ],
 "metadata": {
  "kernelspec": {
   "display_name": "Python 3",
   "language": "python",
   "name": "python3"
  },
  "language_info": {
   "codemirror_mode": {
    "name": "ipython",
    "version": 3
   },
   "file_extension": ".py",
   "mimetype": "text/x-python",
   "name": "python",
   "nbconvert_exporter": "python",
   "pygments_lexer": "ipython3",
   "version": "3.8.3"
  }
 },
 "nbformat": 4,
 "nbformat_minor": 4
}
