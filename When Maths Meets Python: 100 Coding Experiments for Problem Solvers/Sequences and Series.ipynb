{
 "cells": [
  {
   "cell_type": "markdown",
   "metadata": {},
   "source": [
    "#### What is the sum of\n",
    "$1/2+(1/3+2/3)+(1/4+2/4+3/4)+...+(1/100+2/100+...+99/100)$?"
   ]
  },
  {
   "cell_type": "code",
   "execution_count": 1,
   "metadata": {},
   "outputs": [
    {
     "name": "stdout",
     "output_type": "stream",
     "text": [
      "The sum is: 2475.0\n"
     ]
    }
   ],
   "source": [
    "a=[i/j for j in range(1,101) for i in range(1, j)]\n",
    "print('The sum is:', sum(a))"
   ]
  },
  {
   "cell_type": "markdown",
   "metadata": {},
   "source": [
    "Let $n=9+99+999+\\cdots+99...9$, where the last number to be added consists of 999 digits of 9. How many times will the digit 1 appear in $n$?"
   ]
  },
  {
   "cell_type": "code",
   "execution_count": 3,
   "metadata": {},
   "outputs": [
    {
     "name": "stdout",
     "output_type": "stream",
     "text": [
      "The number of 1s is: 999\n"
     ]
    }
   ],
   "source": [
    "a=0\n",
    "n=0\n",
    "b=0\n",
    "while n<1000:\n",
    "    b=int(str(b)+str(9))\n",
    "    a += b\n",
    "    n += 1\n",
    "num_1=str(a).count('1')\n",
    "print('The number of 1s is:', num_1)"
   ]
  },
  {
   "cell_type": "code",
   "execution_count": null,
   "metadata": {},
   "outputs": [],
   "source": []
  }
 ],
 "metadata": {
  "kernelspec": {
   "display_name": "Python 3",
   "language": "python",
   "name": "python3"
  },
  "language_info": {
   "codemirror_mode": {
    "name": "ipython",
    "version": 3
   },
   "file_extension": ".py",
   "mimetype": "text/x-python",
   "name": "python",
   "nbconvert_exporter": "python",
   "pygments_lexer": "ipython3",
   "version": "3.8.3"
  }
 },
 "nbformat": 4,
 "nbformat_minor": 4
}
